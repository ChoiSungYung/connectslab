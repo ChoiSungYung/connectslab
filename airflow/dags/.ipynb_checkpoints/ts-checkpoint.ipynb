{
 "cells": [
  {
   "cell_type": "code",
   "execution_count": 3,
   "id": "d3a29193-98ff-44fa-a3f1-d51aa6fb10ca",
   "metadata": {},
   "outputs": [
    {
     "name": "stdout",
     "output_type": "stream",
     "text": [
      "DAG 파일이 저장되었습니다.\n"
     ]
    }
   ],
   "source": [
    "# DAG 코드 작성\n",
    "dag_code = \"\"\"\n",
    "from airflow import DAG\n",
    "from airflow.operators.python import PythonOperator  # 최신 Airflow 버전에서는 이 경로를 사용합니다.\n",
    "from datetime import datetime\n",
    "\n",
    "def hello_jupyter():\n",
    "    print(\"go going\")\n",
    "\n",
    "default_args = {\n",
    "    'owner': 'airflow',  # owner 추가\n",
    "    'start_date': datetime(2023, 10, 21),\n",
    "}\n",
    "\n",
    "dag = DAG('gogo_dag', default_args=default_args, schedule_interval='@once')\n",
    "\n",
    "hello_task = PythonOperator(\n",
    "    task_id='go',\n",
    "    python_callable=hello_jupyter,\n",
    "    dag=dag\n",
    ")\n",
    "\"\"\"\n",
    "\n",
    "# 파일로 저장\n",
    "with open('gogo.py', 'w') as f:\n",
    "    f.write(dag_code)\n",
    "\n",
    "print(\"DAG 파일이 저장되었습니다.\")"
   ]
  },
  {
   "cell_type": "code",
   "execution_count": null,
   "id": "8dff04d3-2961-4f11-b8b5-7204a619be7b",
   "metadata": {},
   "outputs": [],
   "source": []
  }
 ],
 "metadata": {
  "kernelspec": {
   "display_name": "Python 3 (ipykernel)",
   "language": "python",
   "name": "python3"
  },
  "language_info": {
   "codemirror_mode": {
    "name": "ipython",
    "version": 3
   },
   "file_extension": ".py",
   "mimetype": "text/x-python",
   "name": "python",
   "nbconvert_exporter": "python",
   "pygments_lexer": "ipython3",
   "version": "3.11.6"
  }
 },
 "nbformat": 4,
 "nbformat_minor": 5
}
